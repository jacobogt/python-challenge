{
 "cells": [
  {
   "cell_type": "code",
   "execution_count": 1,
   "metadata": {},
   "outputs": [],
   "source": [
    " #code for PyBank"
   ]
  },
  {
   "cell_type": "code",
   "execution_count": 2,
   "metadata": {},
   "outputs": [],
   "source": [
    "import os"
   ]
  },
  {
   "cell_type": "code",
   "execution_count": 3,
   "metadata": {},
   "outputs": [],
   "source": [
    "import  csv"
   ]
  },
  {
   "cell_type": "code",
   "execution_count": 4,
   "metadata": {},
   "outputs": [],
   "source": [
    "import numpy as np"
   ]
  },
  {
   "cell_type": "code",
   "execution_count": 5,
   "metadata": {},
   "outputs": [],
   "source": [
    "import pandas as pd"
   ]
  },
  {
   "cell_type": "code",
   "execution_count": 6,
   "metadata": {},
   "outputs": [],
   "source": [
    "#analysis\n",
    "csvpath = os.path.join('Resources', 'budget_data.csv')\n",
    "\n",
    "data=pd.read_csv(csvpath,sep=',')\n",
    "# total months\n",
    "months_total=len(data.Date.unique())\n",
    "#profits\n",
    "net_total=sum(data['Profit/Losses'])\n",
    "potloss=data['Profit/Losses'].diff()\n",
    "avg_change=potloss.mean()\n",
    "#greatest increase\n",
    "id_max=np.where(np.array(potloss)==potloss.max())[0][0]\n",
    "max_month=data.Date[id_max]\n",
    "max_inc=potloss[id_max]\n",
    "#greatest decrease\n",
    "id_min=np.where(np.array(potloss)==potloss.min())[0][0]\n",
    "min_month=data.Date[id_min]\n",
    "min_inc=potloss[id_min]\n"
   ]
  },
  {
   "cell_type": "code",
   "execution_count": 7,
   "metadata": {},
   "outputs": [
    {
     "name": "stdout",
     "output_type": "stream",
     "text": [
      "Financial Analysis\n",
      "Total months: 38382578\n",
      "Total: 86\n",
      "Average Change: $-2315.1176470588234\n",
      "Greatest Increase in Profits: Feb-2012 ($1926159.0)\n",
      "Greatest Decrease in Profits: Sep-2013 ($-2196167.0)\n"
     ]
    }
   ],
   "source": [
    "#display analysis\n",
    "print('Financial Analysis')\n",
    "print(f'Total months: {net_total}')\n",
    "print(f'Total: {months_total}')\n",
    "print(f'Average Change: ${avg_change}')\n",
    "print(f'Greatest Increase in Profits: {max_month} (${max_inc})')\n",
    "print(f'Greatest Decrease in Profits: {min_month} (${min_inc})')"
   ]
  },
  {
   "cell_type": "code",
   "execution_count": 8,
   "metadata": {},
   "outputs": [],
   "source": [
    "#export analysis\n",
    "txtpath = os.path.join('Analysis', 'financial analysis.txt')\n",
    "f = open(txtpath,'w')\n",
    "f.write('Financial Analysis\\n')\n",
    "f.write(f'Total months: {net_total}\\n')\n",
    "f.write(f'Total: {months_total}\\n')\n",
    "f.write(f'Average Change: ${avg_change}\\n')\n",
    "f.write(f'Greatest Increase in Profits: {max_month} (${max_inc})\\n')\n",
    "f.write(f'Greatest Decrease in Profits: {min_month} (${min_inc})\\n')\n",
    "f.close()"
   ]
  },
  {
   "cell_type": "code",
   "execution_count": null,
   "metadata": {},
   "outputs": [],
   "source": []
  }
 ],
 "metadata": {
  "kernelspec": {
   "display_name": "Python 3",
   "language": "python",
   "name": "python3"
  },
  "language_info": {
   "codemirror_mode": {
    "name": "ipython",
    "version": 3
   },
   "file_extension": ".py",
   "mimetype": "text/x-python",
   "name": "python",
   "nbconvert_exporter": "python",
   "pygments_lexer": "ipython3",
   "version": "3.6.10"
  }
 },
 "nbformat": 4,
 "nbformat_minor": 4
}
