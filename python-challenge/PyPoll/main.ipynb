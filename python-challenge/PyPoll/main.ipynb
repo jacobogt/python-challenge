{
 "cells": [
  {
   "cell_type": "code",
   "execution_count": 9,
   "metadata": {},
   "outputs": [],
   "source": [
    "# code PyPoll\n",
    "import os\n",
    "import  csv\n",
    "import numpy as np\n",
    "import pandas as pd"
   ]
  },
  {
   "cell_type": "code",
   "execution_count": 10,
   "metadata": {},
   "outputs": [],
   "source": [
    "#analysis\n",
    "csvpath = os.path.join('Resources', 'election_data.csv')\n",
    "data=pd.read_csv(csvpath,sep=',')\n",
    "#votes\n",
    "data_agg=data[['Candidate','Voter ID']].groupby('Candidate',as_index=False).count()\n",
    "data_agg.rename(columns={'Voter ID':'total'},inplace=True)\n",
    "total=data_agg.total.sum()\n",
    "#winner time\n",
    "vot_max=np.where(np.array(data_agg['total'])==data_agg['total'].max())[0][0]"
   ]
  },
  {
   "cell_type": "code",
   "execution_count": 14,
   "metadata": {},
   "outputs": [
    {
     "name": "stdout",
     "output_type": "stream",
     "text": [
      "\n",
      "Election Results\n",
      "\n",
      "Correy: 20.0% (704200)\n",
      "\n",
      "Khan: 63.0% (2218231)\n",
      "\n",
      "Li: 14.0% (492940)\n",
      "\n",
      "O'Tooley: 3.0% (105630)\n",
      "\n",
      "Winner is: Khan\n",
      "\n"
     ]
    }
   ],
   "source": [
    "#display analysis\n",
    "print('\\nElection Results\\n')\n",
    "for i in list(range(data_agg.shape[0])):\n",
    "    print(f'{data_agg.iloc[i,0]}: {data_agg.iloc[i,1]*100/total:.1f}% ({data_agg.iloc[i,1]})\\n')\n",
    "print(f'Winner is: {data_agg.iloc[vot_max,0]}\\n')"
   ]
  },
  {
   "cell_type": "code",
   "execution_count": 15,
   "metadata": {},
   "outputs": [],
   "source": [
    "#export\n",
    "txtpath = os.path.join('Analysis', 'poll analysis.txt')\n",
    "f = open(txtpath,'w')\n",
    "f.write('Election Results\\n')\n",
    "\n",
    "for i in list(range(data_agg.shape[0])):\n",
    "    f.write(f'{data_agg.iloc[i,0]}: {data_agg.iloc[i,1]*100/total:.1f}% ({data_agg.iloc[i,1]})\\n')\n",
    "    \n",
    "\n",
    "f.write(f'Winner is: {data_agg.iloc[vot_max,0]}')\n",
    "\n",
    "f.close()"
   ]
  },
  {
   "cell_type": "code",
   "execution_count": null,
   "metadata": {},
   "outputs": [],
   "source": []
  }
 ],
 "metadata": {
  "kernelspec": {
   "display_name": "Python 3",
   "language": "python",
   "name": "python3"
  },
  "language_info": {
   "codemirror_mode": {
    "name": "ipython",
    "version": 3
   },
   "file_extension": ".py",
   "mimetype": "text/x-python",
   "name": "python",
   "nbconvert_exporter": "python",
   "pygments_lexer": "ipython3",
   "version": "3.6.10"
  }
 },
 "nbformat": 4,
 "nbformat_minor": 4
}
